{
  "nbformat": 4,
  "nbformat_minor": 0,
  "metadata": {
    "colab": {
      "name": "CustomWordEmbeddings.ipynb",
      "version": "0.3.2",
      "provenance": [],
      "include_colab_link": true
    },
    "kernelspec": {
      "name": "python3",
      "display_name": "Python 3"
    },
    "accelerator": "GPU"
  },
  "cells": [
    {
      "cell_type": "markdown",
      "metadata": {
        "id": "view-in-github",
        "colab_type": "text"
      },
      "source": [
        "<a href=\"https://colab.research.google.com/github/sysadminamit/CusomWordEmbeddingsNLP/blob/master/CustomWordEmbeddings.ipynb\" target=\"_parent\"><img src=\"https://colab.research.google.com/assets/colab-badge.svg\" alt=\"Open In Colab\"/></a>"
      ]
    },
    {
      "cell_type": "code",
      "metadata": {
        "id": "qQIK3DzsAwX7",
        "colab_type": "code",
        "outputId": "161bf04c-5900-4e00-c41f-3dc66e33eec3",
        "colab": {
          "base_uri": "https://localhost:8080/",
          "height": 202
        }
      },
      "source": [
        "!wget http://snap.stanford.edu/data/amazon/productGraph/categoryFiles/reviews_Electronics_5.json.gz"
      ],
      "execution_count": 0,
      "outputs": [
        {
          "output_type": "stream",
          "text": [
            "--2019-07-04 06:06:26--  http://snap.stanford.edu/data/amazon/productGraph/categoryFiles/reviews_Electronics_5.json.gz\n",
            "Resolving snap.stanford.edu (snap.stanford.edu)... 171.64.75.80\n",
            "Connecting to snap.stanford.edu (snap.stanford.edu)|171.64.75.80|:80... connected.\n",
            "HTTP request sent, awaiting response... 200 OK\n",
            "Length: 495854086 (473M) [application/x-gzip]\n",
            "Saving to: ‘reviews_Electronics_5.json.gz’\n",
            "\n",
            "reviews_Electronics 100%[===================>] 472.88M  1.36MB/s    in 4m 4s   \n",
            "\n",
            "2019-07-04 06:10:30 (1.93 MB/s) - ‘reviews_Electronics_5.json.gz’ saved [495854086/495854086]\n",
            "\n"
          ],
          "name": "stdout"
        }
      ]
    },
    {
      "cell_type": "code",
      "metadata": {
        "id": "lBKAvrRiGmkT",
        "colab_type": "code",
        "outputId": "00f3ea5c-c087-4a9a-fe67-21ed9aaf601c",
        "colab": {
          "base_uri": "https://localhost:8080/",
          "height": 212
        }
      },
      "source": [
        "import pandas as pd\n",
        "import os\n",
        "fn = 'reviews_Electronics_5.json.gz'\n",
        "print(os.path.isfile(fn))\n",
        "df = pd.read_json(fn, lines=True, compression='gzip')\n",
        "df.head()"
      ],
      "execution_count": 0,
      "outputs": [
        {
          "output_type": "stream",
          "text": [
            "True\n"
          ],
          "name": "stdout"
        },
        {
          "output_type": "execute_result",
          "data": {
            "text/html": [
              "<div>\n",
              "<style scoped>\n",
              "    .dataframe tbody tr th:only-of-type {\n",
              "        vertical-align: middle;\n",
              "    }\n",
              "\n",
              "    .dataframe tbody tr th {\n",
              "        vertical-align: top;\n",
              "    }\n",
              "\n",
              "    .dataframe thead th {\n",
              "        text-align: right;\n",
              "    }\n",
              "</style>\n",
              "<table border=\"1\" class=\"dataframe\">\n",
              "  <thead>\n",
              "    <tr style=\"text-align: right;\">\n",
              "      <th></th>\n",
              "      <th>asin</th>\n",
              "      <th>helpful</th>\n",
              "      <th>overall</th>\n",
              "      <th>reviewText</th>\n",
              "      <th>reviewTime</th>\n",
              "      <th>reviewerID</th>\n",
              "      <th>reviewerName</th>\n",
              "      <th>summary</th>\n",
              "      <th>unixReviewTime</th>\n",
              "    </tr>\n",
              "  </thead>\n",
              "  <tbody>\n",
              "    <tr>\n",
              "      <th>0</th>\n",
              "      <td>0528881469</td>\n",
              "      <td>[0, 0]</td>\n",
              "      <td>5</td>\n",
              "      <td>We got this GPS for my husband who is an (OTR)...</td>\n",
              "      <td>06 2, 2013</td>\n",
              "      <td>AO94DHGC771SJ</td>\n",
              "      <td>amazdnu</td>\n",
              "      <td>Gotta have GPS!</td>\n",
              "      <td>1370131200</td>\n",
              "    </tr>\n",
              "    <tr>\n",
              "      <th>1</th>\n",
              "      <td>0528881469</td>\n",
              "      <td>[12, 15]</td>\n",
              "      <td>1</td>\n",
              "      <td>I'm a professional OTR truck driver, and I bou...</td>\n",
              "      <td>11 25, 2010</td>\n",
              "      <td>AMO214LNFCEI4</td>\n",
              "      <td>Amazon Customer</td>\n",
              "      <td>Very Disappointed</td>\n",
              "      <td>1290643200</td>\n",
              "    </tr>\n",
              "    <tr>\n",
              "      <th>2</th>\n",
              "      <td>0528881469</td>\n",
              "      <td>[43, 45]</td>\n",
              "      <td>3</td>\n",
              "      <td>Well, what can I say.  I've had this unit in m...</td>\n",
              "      <td>09 9, 2010</td>\n",
              "      <td>A3N7T0DY83Y4IG</td>\n",
              "      <td>C. A. Freeman</td>\n",
              "      <td>1st impression</td>\n",
              "      <td>1283990400</td>\n",
              "    </tr>\n",
              "    <tr>\n",
              "      <th>3</th>\n",
              "      <td>0528881469</td>\n",
              "      <td>[9, 10]</td>\n",
              "      <td>2</td>\n",
              "      <td>Not going to write a long review, even thought...</td>\n",
              "      <td>11 24, 2010</td>\n",
              "      <td>A1H8PY3QHMQQA0</td>\n",
              "      <td>Dave M. Shaw \"mack dave\"</td>\n",
              "      <td>Great grafics, POOR GPS</td>\n",
              "      <td>1290556800</td>\n",
              "    </tr>\n",
              "    <tr>\n",
              "      <th>4</th>\n",
              "      <td>0528881469</td>\n",
              "      <td>[0, 0]</td>\n",
              "      <td>1</td>\n",
              "      <td>I've had mine for a year and here's what we go...</td>\n",
              "      <td>09 29, 2011</td>\n",
              "      <td>A24EV6RXELQZ63</td>\n",
              "      <td>Wayne Smith</td>\n",
              "      <td>Major issues, only excuses for support</td>\n",
              "      <td>1317254400</td>\n",
              "    </tr>\n",
              "  </tbody>\n",
              "</table>\n",
              "</div>"
            ],
            "text/plain": [
              "         asin   helpful  ...                                 summary unixReviewTime\n",
              "0  0528881469    [0, 0]  ...                         Gotta have GPS!     1370131200\n",
              "1  0528881469  [12, 15]  ...                       Very Disappointed     1290643200\n",
              "2  0528881469  [43, 45]  ...                          1st impression     1283990400\n",
              "3  0528881469   [9, 10]  ...                 Great grafics, POOR GPS     1290556800\n",
              "4  0528881469    [0, 0]  ...  Major issues, only excuses for support     1317254400\n",
              "\n",
              "[5 rows x 9 columns]"
            ]
          },
          "metadata": {
            "tags": []
          },
          "execution_count": 1
        }
      ]
    },
    {
      "cell_type": "code",
      "metadata": {
        "id": "wCPhe5Auezin",
        "colab_type": "code",
        "outputId": "63576be4-19a0-4d23-afef-0cdcc0ba82e9",
        "colab": {
          "base_uri": "https://localhost:8080/",
          "height": 34
        }
      },
      "source": [
        "#data = df.to_csv('ElectronicsProductReviewCSV.csv')\n",
        "import pandas as pd\n",
        "dataset = pd.read_csv('ElectronicsProductReviewCSV.csv')\n",
        "dataset.shape"
      ],
      "execution_count": 0,
      "outputs": [
        {
          "output_type": "execute_result",
          "data": {
            "text/plain": [
              "(1689188, 10)"
            ]
          },
          "metadata": {
            "tags": []
          },
          "execution_count": 1
        }
      ]
    },
    {
      "cell_type": "code",
      "metadata": {
        "id": "1ZDPa3t447iX",
        "colab_type": "code",
        "colab": {}
      },
      "source": [
        "dataset = dataset.dropna()"
      ],
      "execution_count": 0,
      "outputs": []
    },
    {
      "cell_type": "code",
      "metadata": {
        "id": "SFpvUY655OIb",
        "colab_type": "code",
        "colab": {}
      },
      "source": [
        "import numpy as np\n",
        "remove_n = 1000000\n",
        "\n",
        "drop_indices = np.random.choice(dataset.index, remove_n, replace=False)\n",
        "dataset = dataset.drop(drop_indices)"
      ],
      "execution_count": 0,
      "outputs": []
    },
    {
      "cell_type": "code",
      "metadata": {
        "id": "Zw0pDRQZ5AwS",
        "colab_type": "code",
        "outputId": "527d8aef-7c37-423c-95cf-54d2d33050cd",
        "colab": {
          "base_uri": "https://localhost:8080/",
          "height": 34
        }
      },
      "source": [
        "dataset.shape"
      ],
      "execution_count": 0,
      "outputs": [
        {
          "output_type": "execute_result",
          "data": {
            "text/plain": [
              "(663229, 10)"
            ]
          },
          "metadata": {
            "tags": []
          },
          "execution_count": 4
        }
      ]
    },
    {
      "cell_type": "code",
      "metadata": {
        "id": "FpgSvnAgKydc",
        "colab_type": "code",
        "colab": {}
      },
      "source": [
        "dataset[['helpulobtained','totalhelpfulscore']] = pd.DataFrame(dataset['helpful'].str.split().values.tolist())"
      ],
      "execution_count": 0,
      "outputs": []
    },
    {
      "cell_type": "code",
      "metadata": {
        "id": "sogZdqgVd_iO",
        "colab_type": "code",
        "colab": {}
      },
      "source": [
        "dataset[\"helpfulobtained\"] = dataset['helpulobtained'].str.replace('[^\\w\\s]','')\n",
        "dataset[\"totalhelpfulScore\"] = dataset['totalhelpfulscore'].str.replace('[^\\w\\s]','')"
      ],
      "execution_count": 0,
      "outputs": []
    },
    {
      "cell_type": "code",
      "metadata": {
        "id": "Bfrlrerpd_lS",
        "colab_type": "code",
        "colab": {}
      },
      "source": [
        "dataset = dataset.drop(['helpulobtained', 'totalhelpfulscore'], axis=1)"
      ],
      "execution_count": 0,
      "outputs": []
    },
    {
      "cell_type": "code",
      "metadata": {
        "id": "MlSBT79jeQEF",
        "colab_type": "code",
        "colab": {}
      },
      "source": [
        "dataset['helpfulobtained'] = pd.to_numeric(dataset['helpfulobtained'], errors='coerce')\n",
        "dataset = dataset.dropna(subset=['helpfulobtained'])\n",
        "dataset['helpfulobtained'] = dataset['helpfulobtained'].astype(int)"
      ],
      "execution_count": 0,
      "outputs": []
    },
    {
      "cell_type": "code",
      "metadata": {
        "id": "T0Ko1QndeQG9",
        "colab_type": "code",
        "colab": {}
      },
      "source": [
        "dataset['totalhelpfulScore'] = pd.to_numeric(dataset['totalhelpfulScore'], errors='coerce')\n",
        "dataset = dataset.dropna(subset=['totalhelpfulScore'])\n",
        "dataset['totalhelpfulScore'] = dataset['totalhelpfulScore'].astype(int)"
      ],
      "execution_count": 0,
      "outputs": []
    },
    {
      "cell_type": "code",
      "metadata": {
        "id": "f031TJB8eVnm",
        "colab_type": "code",
        "colab": {}
      },
      "source": [
        "dataset['Helpfulfactor'] = dataset['helpfulobtained']/dataset['totalhelpfulScore']"
      ],
      "execution_count": 0,
      "outputs": []
    },
    {
      "cell_type": "code",
      "metadata": {
        "id": "UbYqDUrHgMVq",
        "colab_type": "code",
        "outputId": "5bfa5086-3696-4e88-d14b-59aba838c1c6",
        "colab": {
          "base_uri": "https://localhost:8080/",
          "height": 602
        }
      },
      "source": [
        "dataset['Helpfulfactor'] = dataset['Helpfulfactor'].fillna(0)\n",
        "dataset.head()"
      ],
      "execution_count": 0,
      "outputs": [
        {
          "output_type": "execute_result",
          "data": {
            "text/html": [
              "<div>\n",
              "<style scoped>\n",
              "    .dataframe tbody tr th:only-of-type {\n",
              "        vertical-align: middle;\n",
              "    }\n",
              "\n",
              "    .dataframe tbody tr th {\n",
              "        vertical-align: top;\n",
              "    }\n",
              "\n",
              "    .dataframe thead th {\n",
              "        text-align: right;\n",
              "    }\n",
              "</style>\n",
              "<table border=\"1\" class=\"dataframe\">\n",
              "  <thead>\n",
              "    <tr style=\"text-align: right;\">\n",
              "      <th></th>\n",
              "      <th>Unnamed: 0</th>\n",
              "      <th>asin</th>\n",
              "      <th>helpful</th>\n",
              "      <th>overall</th>\n",
              "      <th>reviewText</th>\n",
              "      <th>reviewTime</th>\n",
              "      <th>reviewerID</th>\n",
              "      <th>reviewerName</th>\n",
              "      <th>summary</th>\n",
              "      <th>unixReviewTime</th>\n",
              "      <th>helpfulobtained</th>\n",
              "      <th>totalhelpfulScore</th>\n",
              "      <th>Helpfulfactor</th>\n",
              "    </tr>\n",
              "  </thead>\n",
              "  <tbody>\n",
              "    <tr>\n",
              "      <th>3</th>\n",
              "      <td>3</td>\n",
              "      <td>0528881469</td>\n",
              "      <td>[9, 10]</td>\n",
              "      <td>2</td>\n",
              "      <td>Not going to write a long review, even thought...</td>\n",
              "      <td>11 24, 2010</td>\n",
              "      <td>A1H8PY3QHMQQA0</td>\n",
              "      <td>Dave M. Shaw \"mack dave\"</td>\n",
              "      <td>Great grafics, POOR GPS</td>\n",
              "      <td>1290556800</td>\n",
              "      <td>2</td>\n",
              "      <td>2</td>\n",
              "      <td>1.000000</td>\n",
              "    </tr>\n",
              "    <tr>\n",
              "      <th>4</th>\n",
              "      <td>4</td>\n",
              "      <td>0528881469</td>\n",
              "      <td>[0, 0]</td>\n",
              "      <td>1</td>\n",
              "      <td>I've had mine for a year and here's what we go...</td>\n",
              "      <td>09 29, 2011</td>\n",
              "      <td>A24EV6RXELQZ63</td>\n",
              "      <td>Wayne Smith</td>\n",
              "      <td>Major issues, only excuses for support</td>\n",
              "      <td>1317254400</td>\n",
              "      <td>0</td>\n",
              "      <td>0</td>\n",
              "      <td>0.000000</td>\n",
              "    </tr>\n",
              "    <tr>\n",
              "      <th>9</th>\n",
              "      <td>9</td>\n",
              "      <td>0594451647</td>\n",
              "      <td>[3, 3]</td>\n",
              "      <td>5</td>\n",
              "      <td>This product really works great but I found th...</td>\n",
              "      <td>01 20, 2014</td>\n",
              "      <td>A3BY5KCNQZXV5U</td>\n",
              "      <td>Matenai</td>\n",
              "      <td>This works great but read the details...</td>\n",
              "      <td>1390176000</td>\n",
              "      <td>7</td>\n",
              "      <td>9</td>\n",
              "      <td>0.777778</td>\n",
              "    </tr>\n",
              "    <tr>\n",
              "      <th>10</th>\n",
              "      <td>10</td>\n",
              "      <td>0594481813</td>\n",
              "      <td>[2, 2]</td>\n",
              "      <td>4</td>\n",
              "      <td>This item is just as was described in the orig...</td>\n",
              "      <td>04 16, 2014</td>\n",
              "      <td>A7S2B0I67WNWB</td>\n",
              "      <td>AllyMG</td>\n",
              "      <td>As expected</td>\n",
              "      <td>1397606400</td>\n",
              "      <td>0</td>\n",
              "      <td>0</td>\n",
              "      <td>0.000000</td>\n",
              "    </tr>\n",
              "    <tr>\n",
              "      <th>15</th>\n",
              "      <td>15</td>\n",
              "      <td>0594481813</td>\n",
              "      <td>[0, 0]</td>\n",
              "      <td>3</td>\n",
              "      <td>It does 2A and charges a DEAD Nook in a few ho...</td>\n",
              "      <td>08 31, 2013</td>\n",
              "      <td>AT09WGFUM934H</td>\n",
              "      <td>John</td>\n",
              "      <td>This is the oem charger you get with the nook hd+</td>\n",
              "      <td>1377907200</td>\n",
              "      <td>0</td>\n",
              "      <td>0</td>\n",
              "      <td>0.000000</td>\n",
              "    </tr>\n",
              "  </tbody>\n",
              "</table>\n",
              "</div>"
            ],
            "text/plain": [
              "    Unnamed: 0        asin  ... totalhelpfulScore  Helpfulfactor\n",
              "3            3  0528881469  ...                 2       1.000000\n",
              "4            4  0528881469  ...                 0       0.000000\n",
              "9            9  0594451647  ...                 9       0.777778\n",
              "10          10  0594481813  ...                 0       0.000000\n",
              "15          15  0594481813  ...                 0       0.000000\n",
              "\n",
              "[5 rows x 13 columns]"
            ]
          },
          "metadata": {
            "tags": []
          },
          "execution_count": 11
        }
      ]
    },
    {
      "cell_type": "code",
      "metadata": {
        "id": "jIGwxqB0lds_",
        "colab_type": "code",
        "outputId": "bfe6c087-f874-4a91-ec61-a552b5f0c888",
        "colab": {
          "base_uri": "https://localhost:8080/",
          "height": 50
        }
      },
      "source": [
        "import gensim, logging, os, re, string, tensorflow\n",
        "import tensorflow as tf\n",
        "from tensorflow.contrib.tensorboard.plugins import projector\n",
        "from gensim.utils import simple_preprocess\n",
        "\n",
        "print('gensim version: \\t%s'     % gensim.__version__)\n",
        "print('TensorFlow version: \\t%s' % tensorflow.__version__)"
      ],
      "execution_count": 0,
      "outputs": [
        {
          "output_type": "stream",
          "text": [
            "gensim version: \t3.6.0\n",
            "TensorFlow version: \t1.14.0\n"
          ],
          "name": "stdout"
        }
      ]
    },
    {
      "cell_type": "code",
      "metadata": {
        "id": "dnuD3nMmkLPu",
        "colab_type": "code",
        "colab": {}
      },
      "source": [
        "dataset['review_Model']= dataset['reviewText']+ \" \" + dataset['summary']"
      ],
      "execution_count": 0,
      "outputs": []
    },
    {
      "cell_type": "code",
      "metadata": {
        "id": "42Jpc52CocLq",
        "colab_type": "code",
        "colab": {}
      },
      "source": [
        "df = dataset[['reviewerID','reviewerName','review_Model']]\n",
        " #Select features from original dataset to form a new dataframe "
      ],
      "execution_count": 0,
      "outputs": []
    },
    {
      "cell_type": "code",
      "metadata": {
        "id": "DxXtjXenpEWs",
        "colab_type": "code",
        "colab": {}
      },
      "source": [
        "# For each row, combine all the columns into one column\n",
        "df1 = df.apply(lambda x: ','.join(x.astype(str)), axis=1)"
      ],
      "execution_count": 0,
      "outputs": []
    },
    {
      "cell_type": "code",
      "metadata": {
        "id": "AbTmE3R0pOL9",
        "colab_type": "code",
        "colab": {}
      },
      "source": [
        "# Store them in a pandas dataframe\n",
        "df_clean = pd.DataFrame({'clean': df1})"
      ],
      "execution_count": 0,
      "outputs": []
    },
    {
      "cell_type": "code",
      "metadata": {
        "id": "Tlg77Br_qBDG",
        "colab_type": "code",
        "colab": {}
      },
      "source": [
        "# Create the list of list format of the custom corpus for gensim modeling \n",
        "sent = [row.split(',') for row in df_clean['clean']]"
      ],
      "execution_count": 0,
      "outputs": []
    },
    {
      "cell_type": "code",
      "metadata": {
        "id": "6nmYTLdOqIEu",
        "colab_type": "code",
        "outputId": "d53f4d45-f115-4869-9bf8-cd6852b499a2",
        "colab": {
          "base_uri": "https://localhost:8080/",
          "height": 373
        }
      },
      "source": [
        "# show the example of list of list format of the custom corpus for gensim modeling \n",
        "sent[:2]"
      ],
      "execution_count": 0,
      "outputs": [
        {
          "output_type": "execute_result",
          "data": {
            "text/plain": [
              "[['A1H8PY3QHMQQA0',\n",
              "  'Dave M. Shaw \"mack dave\"',\n",
              "  'Not going to write a long review',\n",
              "  \" even thought this unit deserves one. I've driven well over 1-mil miles and done most of my own routing so I pretty know whats the fastest and shortest. Have been using a basic garmin for the past three years and with ANY Gps unit they'll ALL get you in trouble if you let them. I was really excited about this unit\",\n",
              "  ' due to the size and the features. Allot of great grafics and on screen info thats usefull. But the most basic item that it was lacking was the gps tracking. I gave this unit allot of leadway on its mistakes due to the fact that it had allot of cool stuff that it did',\n",
              "  \" but its ability to track you and route you was not even close to what the basic garmin could due. Its like the prossesor that they installed in the TND 700 was 10 years old. Example if I needed to make a simple route change I.E. in town down to the next street due to the fact that I couldn't make the turn or the street was blocked off\",\n",
              "  \" it would take the TND 700 upwards of 45 seconds to a minute and a half to reroute me. Here I'm sitting at a stop light waiting for directions and waiting that long with cars on my backside didn't make me happy. This is a problem that happened evertime you had to reroute\",\n",
              "  ' weather it was a simple street change or a major highway change. Also from the time you turned the unit on it would take twice as long to boot itself up. At least a dozen times with in a week it put me on the wrong roads and when I made a wrong turn it got it self lost....I.E. take left on xyz street',\n",
              "  ' and it was some ones drive way. Or turn left in 800 yards and the turn was less than 10 feet away. You might think in a conjested city situation I might get a little mixed up',\n",
              "  ' but this is out in the country. Twice it put me under 12\\'6\" bridges when I\\'m 13\\'6\". Of course I made sure all my truck setting where they were supposed to be. I also updated the OS version',\n",
              "  \"via Rand McNally. All in all I expected alot out of this unit and got a unit that should of been field tested with some people that drive allot. It just had to many route mistakes. Going back to the basic garmin. This isn't just my complaints\",\n",
              "  ' I have three friends that bought the same unit and have the same complaints. All of us returned the units. Great grafics',\n",
              "  ' POOR GPS'],\n",
              " ['A24EV6RXELQZ63',\n",
              "  'Wayne Smith',\n",
              "  \"I've had mine for a year and here's what we got. It tries to route be down non truck routes while telling me the truck route is illegal for me. This is such a bad problem that even Interstate 25 in Denver Colorado is listed (according to this GPS) as a non- truck route and will route you through the city instead. There are several drivers within our company who own one and more than half (of about 50) have crashed to an un-recoverable state. Our company representative said that Rand McNally informed them that the GPS was not designed to say on for a long period of time. Really? it's a truck driver GPS. We have one driver with a $2400 dollar ticket due to this GPS routing him down the wrong road. The companies response was to update the unit. I've had mine for a year\",\n",
              "  ' I never noticed one update that corrected functionality',\n",
              "  ' they only seem to keep messing the tools. I want a GPS that routes',\n",
              "  \" if I wanted tools I'd buy software for my computer.My suggestion is to by a nice Garmen. My one rated for cars actually routes me better than this one rated for trucks.Wayne Major issues\",\n",
              "  ' only excuses for support']]"
            ]
          },
          "metadata": {
            "tags": []
          },
          "execution_count": 18
        }
      ]
    },
    {
      "cell_type": "code",
      "metadata": {
        "id": "KdHk2ihBqgiD",
        "colab_type": "code",
        "colab": {}
      },
      "source": [
        "model = gensim.models.Word2Vec(sent, min_count=1,size= 300,workers=3, window =3, sg = 1)"
      ],
      "execution_count": 0,
      "outputs": []
    },
    {
      "cell_type": "code",
      "metadata": {
        "id": "usFDHTUSt9uG",
        "colab_type": "code",
        "outputId": "f4a384b4-789f-45c6-a87f-bcfd0283675b",
        "colab": {
          "base_uri": "https://localhost:8080/",
          "height": 205
        }
      },
      "source": [
        "model.most_similar('A1H8PY3QHMQQA0')[:5]"
      ],
      "execution_count": 0,
      "outputs": [
        {
          "output_type": "stream",
          "text": [
            "/usr/local/lib/python3.6/dist-packages/ipykernel_launcher.py:1: DeprecationWarning: Call to deprecated `most_similar` (Method will be removed in 4.0.0, use self.wv.most_similar() instead).\n",
            "  \"\"\"Entry point for launching an IPython kernel.\n",
            "/usr/local/lib/python3.6/dist-packages/gensim/matutils.py:737: FutureWarning: Conversion of the second argument of issubdtype from `int` to `np.signedinteger` is deprecated. In future, it will be treated as `np.int64 == np.dtype(int).type`.\n",
            "  if np.issubdtype(vec.dtype, np.int):\n"
          ],
          "name": "stderr"
        },
        {
          "output_type": "execute_result",
          "data": {
            "text/plain": [
              "[('I received this DF820A3 as a gift at Christmas', 0.3288156986236572),\n",
              " (' flexible qualities and become more rigid', 0.27521437406539917),\n",
              " (' had 2 67mm filters in their cases', 0.27266764640808105),\n",
              " ('Felipe V. Aburaya', 0.2705111503601074),\n",
              " (\" but I've since figured out how to have it pop back out while still in my ear (pull back).Once in\",\n",
              "  0.2664572596549988)]"
            ]
          },
          "metadata": {
            "tags": []
          },
          "execution_count": 26
        }
      ]
    },
    {
      "cell_type": "code",
      "metadata": {
        "id": "7HldX3NeObBl",
        "colab_type": "code",
        "colab": {}
      },
      "source": [
        "MODEL_DIR = 'emb_data/'"
      ],
      "execution_count": 0,
      "outputs": []
    },
    {
      "cell_type": "code",
      "metadata": {
        "id": "rMDF6u8ANNPI",
        "colab_type": "code",
        "outputId": "e12dffd7-deff-431b-be1d-7cc3c13545be",
        "colab": {
          "base_uri": "https://localhost:8080/",
          "height": 70
        }
      },
      "source": [
        "if not os.path.exists(MODEL_DIR):\n",
        "    os.makedirs(MODEL_DIR)\n",
        "model.save(os.path.join(MODEL_DIR,'word2vec'))"
      ],
      "execution_count": 0,
      "outputs": [
        {
          "output_type": "stream",
          "text": [
            "/usr/local/lib/python3.6/dist-packages/smart_open/smart_open_lib.py:398: UserWarning: This function is deprecated, use smart_open.open instead. See the migration notes for details: https://github.com/RaRe-Technologies/smart_open/blob/master/README.rst#migrating-to-the-new-open-function\n",
            "  'See the migration notes for details: %s' % _MIGRATION_NOTES_URL\n"
          ],
          "name": "stderr"
        }
      ]
    },
    {
      "cell_type": "code",
      "metadata": {
        "id": "SgXR3jLPOVee",
        "colab_type": "code",
        "outputId": "2e0b176d-8176-4a59-cffb-58fb4b77d6e5",
        "colab": {
          "base_uri": "https://localhost:8080/",
          "height": 67
        }
      },
      "source": [
        "weights     = model.wv.vectors\n",
        "index_words = model.wv.index2word\n",
        "\n",
        "vocab_size    = weights.shape[0]\n",
        "embedding_dim = weights.shape[1]\n",
        "\n",
        "print('Shape of weights:', weights.shape)\n",
        "print('Vocabulary size: %i' % vocab_size)\n",
        "print('Embedding size: %i'  % embedding_dim)\n",
        "\n",
        "with open(os.path.join(MODEL_DIR,'metadata.tsv'), 'w') as f:\n",
        "    f.writelines(\"\\n\".join(index_words))\n",
        "\n",
        "# Required if you re-run without restarting the kernel\n",
        "tf.reset_default_graph()\n",
        "    \n",
        "W = tf.Variable(tf.constant(0.0, shape=[vocab_size, embedding_dim]), trainable=False, name=\"W\")\n",
        "embedding_placeholder = tf.placeholder(tf.float32, [vocab_size, embedding_dim])\n",
        "\n",
        "embedding_init = W.assign(embedding_placeholder)\n",
        "writer = tf.summary.FileWriter(MODEL_DIR, graph=tf.get_default_graph())\n",
        "saver = tf.train.Saver()\n",
        "\n",
        "config = projector.ProjectorConfig()\n",
        "embedding = config.embeddings.add()\n",
        "embedding.tensor_name = W.name\n",
        "embedding.metadata_path = './metadata.tsv'\n",
        "projector.visualize_embeddings(writer, config)\n",
        "\n",
        "with tf.Session() as sess:\n",
        "    sess.run(embedding_init, feed_dict={embedding_placeholder: weights})\n",
        "    save_path = saver.save(sess, os.path.join(MODEL_DIR, \"model.cpkt\"))"
      ],
      "execution_count": 0,
      "outputs": [
        {
          "output_type": "stream",
          "text": [
            "Shape of weights: (1566749, 300)\n",
            "Vocabulary size: 1566749\n",
            "Embedding size: 300\n"
          ],
          "name": "stdout"
        }
      ]
    },
    {
      "cell_type": "code",
      "metadata": {
        "id": "5Xy7sz6tP1vm",
        "colab_type": "code",
        "colab": {}
      },
      "source": [
        ""
      ],
      "execution_count": 0,
      "outputs": []
    }
  ]
}